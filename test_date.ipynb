{
 "cells": [
  {
   "cell_type": "code",
   "execution_count": 1,
   "metadata": {},
   "outputs": [],
   "source": [
    "from bs4 import BeautifulSoup as bs\n",
    "import requests\n",
    "import os\n",
    "from urllib.parse import urljoin\n",
    "# Import all utility functions\n",
    "from utility_function import *"
   ]
  },
  {
   "cell_type": "code",
   "execution_count": 2,
   "metadata": {},
   "outputs": [],
   "source": [
    "def get_article_content_fix(article_soup):\n",
    "    \"\"\"Scrape article Title, Overview and Content\"\"\"\n",
    "    header = article_soup.main.div.contents[0].div.div.find('div',class_ = \"flex flex-col gap-px-16 lg:gap-px-24 justify-between md:max-w-content-fixed-md lg:max-w-content-fixed-lg\")\n",
    "    title = header.h1.text\n",
    "    overview = header.find(\"div\", class_ = \"flex flex-col gap-rem-12 md:gap-rem-16 lg:gap-rem-24\").p.text\n",
    "    # date = header.find(\"span\", class_ = \"typography-module_body-xs-regular__0B0St colors-module_colour-text-text-3__cQJVX\").find(\"time\").text\n",
    "    date = article_soup.main.div.contents[0].div.div.find('div',class_ = \"flex flex-col gap-px-16 lg:gap-px-24 justify-between md:max-w-content-fixed-md lg:max-w-content-fixed-lg\").prettify()\n",
    "    print(\"Date: \",date)\n",
    "    content = \"\"\n",
    "    content_soup = article_soup.main.div.contents[1].div.find_all(\"p\")\n",
    "    # print(\"LEN \", len(content_soup))\n",
    "    # print(\"Content: \",content_soup)\n",
    "    for c in content_soup:\n",
    "        # content += f\"{c.text}\\n\\n\"\n",
    "        content += f\"{c.text}\\n||\\n\"\n",
    "    return title, overview, content"
   ]
  },
  {
   "cell_type": "code",
   "execution_count": 3,
   "metadata": {},
   "outputs": [
    {
     "name": "stdout",
     "output_type": "stream",
     "text": [
      "Date:  <div class=\"flex flex-col gap-px-16 lg:gap-px-24 justify-between md:max-w-content-fixed-md lg:max-w-content-fixed-lg\">\n",
      " <div class=\"flex flex-row flex-wrap justify-stretch gap-px-8\">\n",
      "  <a class=\"Tag-module_tag__LdVGr Tag-module_secondary__kUdeN Tag-module_medium__35YBN typography-module_body-xs-bold__TovJz\" href=\"/en/latest/tags/mclaren.5MLqooeGDmOqQqQsmuYyGQ\">\n",
      "   <span class=\"Tag-module_inner__xftJI\">\n",
      "    McLaren\n",
      "   </span>\n",
      "  </a>\n",
      "  <a class=\"Tag-module_tag__LdVGr Tag-module_secondary__kUdeN Tag-module_medium__35YBN typography-module_body-xs-bold__TovJz\" href=\"/en/latest/tags/lando-norris.6y9lwYH3K86YsgoMGg4iEI\">\n",
      "   <span class=\"Tag-module_inner__xftJI\">\n",
      "    Lando Norris\n",
      "   </span>\n",
      "  </a>\n",
      "  <a class=\"Tag-module_tag__LdVGr Tag-module_secondary__kUdeN Tag-module_medium__35YBN typography-module_body-xs-bold__TovJz\" href=\"/en/latest/tags/oscar-piastri.41uIxNZh02INCdkNl0EoUR\">\n",
      "   <span class=\"Tag-module_inner__xftJI\">\n",
      "    Oscar Piastri\n",
      "   </span>\n",
      "  </a>\n",
      "  <button aria-label=\"Show more tags\" class=\"IconButton-module_iconbutton__Lia-n IconButton-module_tonal__mRj7t\">\n",
      "   <span aria-hidden=\"true\" class=\"IconButton-module_inner__P8cCy\">\n",
      "    <span class=\"Icon-module_icon__E3So0\">\n",
      "     <svg class=\"IconVector-module_md__Tkqcn\" fill=\"none\" height=\"1em\" role=\"img\" viewbox=\"0 0 24 24\" width=\"1em\" xmlns=\"http://www.w3.org/2000/svg\">\n",
      "      <title>\n",
      "       Show more tags\n",
      "      </title>\n",
      "      <path d=\"m13.2 12.123-4.6-4.6 1.4-1.4 6 6-6 6-1.4-1.4z\" fill=\"currentColor\">\n",
      "      </path>\n",
      "     </svg>\n",
      "    </span>\n",
      "   </span>\n",
      "  </button>\n",
      " </div>\n",
      " <h1 class=\"typography-module_display-xl-regular__ML8sw typography-module_md_display-2-xl-regular__a78Zc typography-module_lg_display-3-xl-regular__ySVj4 Text-module_upper__pWFEw\">\n",
      "  Stella hails ‘special day’ for Norris at Silverstone but calls Piastri’s penalty ‘harsh’\n",
      " </h1>\n",
      " <div class=\"flex flex-col gap-rem-12 md:gap-rem-16 lg:gap-rem-24\">\n",
      "  <p class=\"typography-module_body-s-regular__ul7F5 typography-module_md_body-m-regular__d9VRg typography-module_lg_body-l-regular__dPa5z\">\n",
      "   Andrea Stella and Zak Brown react to McLaren's 1-2 after the British Grand Prix.\n",
      "  </p>\n",
      " </div>\n",
      " <span class=\"typography-module_body-xs-regular__0B0St colors-module_colour-text-text-3__cQJVX\">\n",
      "  <time>\n",
      "  </time>\n",
      " </span>\n",
      "</div>\n",
      "\n"
     ]
    },
    {
     "data": {
      "text/plain": [
       "('Stella hails ‘special day’ for Norris at Silverstone but calls Piastri’s penalty ‘harsh’',\n",
       " \"Andrea Stella and Zak Brown react to McLaren's 1-2 after the British Grand Prix.\",\n",
       " 'Andrea Stella and Zak Brown were both left with mixed feelings in the wake of the British Grand Prix after their McLaren drivers bagged another 1-2- result. While Lando Norris was over the moon to grab a first home victory, Oscar Piastri was left more disgruntled thanks to a mid-race penalty.\\n||\\nThat 10-second time penalty ended up costing Piastri the win, the time he lost in the pits enough to jump Norris ahead after the Australian had led his team mate for much of the race.\\n||\\nWhile a 1-2 is still a dream result for the team, and extends McLaren’s lead in the Championship to a mighty 238 points, the joy Team Principal Andrea Stella felt was slightly tempered by some frustration on behalf of Piastri.\\n||\\n“Both drivers drove very well, pretty much with no issues at all,” said Stella to Sky Sports F1 in the wake of a chaotic race in wet-dry conditions.\\n||\\n“Oscar very aggressive at the start, he gained the lead quite deservedly, then the penalty unfortunately meant he couldn’t capitalise on a victory. This went to Lando.\\n||\\n“I’m sure for Lando this is a very, very special day, a win at the home Grand Prix. P1, P2 for McLaren so overall a very strong day, we are really happy, it is something we need to celebrate.”\\n||\\n“Couldn’t be happier for Lando, couldn’t be happier for the team, but disappointed for Oscar for sure, he drove an unbelievable race,” added McLaren’s CEO Zak Brown.\\n||\\nPiastri’s penalty was for braking behind the second Safety Car ahead of the restart, when he was trying to build a gap as the lead car. The stewards deemed him guilty of “erratic” braking and handed him a 10-second time penalty, which cost him the lead.\\n||\\n“We certainly gave our input to the Race Direction, especially related to the fact that we felt the Safety Car was called in relatively late,” Stella explained.\\n||\\n“This didn’t give much space for the leading driver to take control of the group and go with the restarting procedure. So, we think overall the penalty was harsh… At the moment there is not much we can do, we just need to take it on the chin.\\n||\\n“A tough one for Oscar as he drove very well today, very well. But it is just the midseason, many more opportunities and I think this will give Oscar even more motivation.”\\n||\\nBrown was in full agreement, saying it looked “worse than it was,” before adding that these kinds of penalties always have “an element of subjectivity.”\\n||\\nNorris winning meant he cut into Piastri’s Championship lead – which stood at 22 points just two races ago. Back-to-back victories for Norris has reduced that to just eight points at the midway point in the season.\\n||\\n“If we can continue to build a gap, we want it to be up to them to decide who wins the Championship,” added Brown.\\n||\\n“If it comes down to the two of them, may the best man win. And they are both very clean drivers, so that is what is cool, you don’t feel like one is going to run one off the track. They’ll fight hard, mistakes will happen along the way, but I think it’s going to be an epic battle down to the final race.”\\n||\\n')"
      ]
     },
     "execution_count": 3,
     "metadata": {},
     "output_type": "execute_result"
    }
   ],
   "source": [
    "s = get_soup(\"https://www.formula1.com/en/latest/tags/oscar-piastri.41uIxNZh02INCdkNl0EoUR\")\n",
    "url = get_article_url(s)\n",
    "\n",
    "arr_soup = get_soup(url[0])\n",
    "\n",
    "arr_content = get_article_content_fix(arr_soup)\n",
    "arr_content"
   ]
  }
 ],
 "metadata": {
  "kernelspec": {
   "display_name": "rag",
   "language": "python",
   "name": "python3"
  },
  "language_info": {
   "codemirror_mode": {
    "name": "ipython",
    "version": 3
   },
   "file_extension": ".py",
   "mimetype": "text/x-python",
   "name": "python",
   "nbconvert_exporter": "python",
   "pygments_lexer": "ipython3",
   "version": "3.12.11"
  }
 },
 "nbformat": 4,
 "nbformat_minor": 2
}
